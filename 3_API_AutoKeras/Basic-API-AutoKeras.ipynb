{
    "cells": [
        {
            "cell_type": "markdown",
            "source": [
                "## Basic API of AutoKeras"
            ],
            "metadata": {}
        },
        {
            "cell_type": "code",
            "execution_count": null,
            "source": [
                "import tensorflow as tf\r\n"
            ],
            "outputs": [],
            "metadata": {}
        }
    ],
    "metadata": {
        "orig_nbformat": 4,
        "language_info": {
            "name": "python"
        }
    },
    "nbformat": 4,
    "nbformat_minor": 2
}